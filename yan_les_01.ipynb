{
 "cells": [
  {
   "cell_type": "code",
   "execution_count": 1,
   "metadata": {},
   "outputs": [],
   "source": [
    "import numpy as np\n",
    "import pandas as pd\n",
    "import seaborn as sns\n",
    "import matplotlib.pyplot as plt\n",
    "import scipy.stats as sps"
   ]
  },
  {
   "cell_type": "code",
   "execution_count": 7,
   "metadata": {},
   "outputs": [
    {
     "name": "stdout",
     "output_type": "stream",
     "text": [
      "0.0362\n"
     ]
    }
   ],
   "source": [
    "month=[\"Январь\", \"Февраль\", \"Март\", \"Апрель\", \"Май\"]\n",
    "variances=[0.0376, 0.0352, 0.0401, 0.0299, 0.0384]\n",
    "data_list=[]\n",
    "data_list.append(month)\n",
    "data_list.append(variances)\n",
    "df=pd.DataFrame(data_list).transpose()\n",
    "df.columns=[\"month\", \"variances\"]\n",
    "print(round(df[\"variances\"].mean(),4))"
   ]
  },
  {
   "cell_type": "code",
   "execution_count": 10,
   "metadata": {},
   "outputs": [
    {
     "name": "stdout",
     "output_type": "stream",
     "text": [
      "var_test: 0.042975\n",
      "var_cont: 0.0384\n",
      "z: 1.7527682734987287\n",
      "-----------\n",
      "p-value(0.08) > a(0.05) => H0 is OK => H0\n",
      "-----------\n"
     ]
    }
   ],
   "source": [
    "p_test=cr_test=0.045\n",
    "p_cont=cr_cont=0.04\n",
    "n=10000\n",
    "# H0: cr_test == cr_cont\n",
    "# H1: cr_test != cr_cont\n",
    "a=0.05\n",
    "#z-test для пропорций\n",
    "var_test=p_test*(1-p_test)\n",
    "var_cont=p_cont*(1-p_cont)\n",
    "print(f'var_test: {var_test}\\nvar_cont: {var_cont}')\n",
    "n_test=n_cont=n\n",
    "z=(p_test-p_cont)/(var_test/n_test+var_cont/n_cont)**0.5\n",
    "print(f'z: {z}')\n",
    "p=0.08\n",
    "if p>a:\n",
    "   print(f'-----------\\np-value({p}) > a({a}) => H0 is OK => H0\\n-----------')\n",
    "else:\n",
    "   print(f'-----------\\np-value({p}) < a({a}) => H0 is not OK => H1\\n-----------')"
   ]
  },
  {
   "cell_type": "code",
   "execution_count": 14,
   "metadata": {},
   "outputs": [
    {
     "name": "stdout",
     "output_type": "stream",
     "text": [
      "                                     metrics   cont   test\n",
      "0                         Заход_в_приложение  50000  50000\n",
      "1  Посещение_поисковой_или_каталожной_выдачи  30450  29956\n",
      "2                 Переход_на_страницу_товара  25890  25900\n",
      "3                Добавление_товара_в_корзину   7939   8032\n",
      "4                            Заход_на_чекаут   4862   4854\n",
      "5                          Оформление_заказа   2370   2500\n"
     ]
    }
   ],
   "source": [
    "values_cont=[50000,30450,25890,7939,4862,2370]\n",
    "values_test=[50000,29956,25900,8032,4854,2500]\n",
    "columns=[\"metrics\",\"cont\", \"test\"]\n",
    "rows=[\"Заход_в_приложение\",\"Посещение_поисковой_или_каталожной_выдачи\",\"Переход_на_страницу_товара\",\"Добавление_товара_в_корзину\",\"Заход_на_чекаут\",\"Оформление_заказа\"]\n",
    "data_list=[]\n",
    "data_list.append(rows)\n",
    "data_list.append(values_cont)\n",
    "data_list.append(values_test)\n",
    "df=pd.DataFrame(data_list).transpose()\n",
    "df.columns=columns\n",
    "print(df)"
   ]
  },
  {
   "cell_type": "code",
   "execution_count": null,
   "metadata": {},
   "outputs": [],
   "source": []
  },
  {
   "cell_type": "code",
   "execution_count": 51,
   "metadata": {},
   "outputs": [
    {
     "name": "stdout",
     "output_type": "stream",
     "text": [
      "cr_cont_wo_round: 0.0474\n",
      "cr_cont: 4.7\n",
      "cr_test_wo_round: 0.05\n",
      "cr_test: 5.0\n",
      "var_cont: 0.0474\n",
      "var_test: 0.0475\n",
      "z_test: 1.91\n",
      "-----------\n",
      "p-value(0.056) > a(0.05) => H0 is OK => H0\n",
      "-----------\n"
     ]
    }
   ],
   "source": [
    "# 1.1\n",
    "cr_cont=sum(df[\"cont\"][df[\"metrics\"]==\"Оформление_заказа\"])/sum(df[\"cont\"][df[\"metrics\"]==\"Заход_в_приложение\"])\n",
    "print(f'cr_cont_wo_round: {cr_cont}\\ncr_cont: {round(cr_cont*100,1)}')\n",
    "# 1.2\n",
    "cr_test=sum(df[\"test\"][df[\"metrics\"]==\"Оформление_заказа\"])/sum(df[\"test\"][df[\"metrics\"]==\"Заход_в_приложение\"])\n",
    "print(f'cr_test_wo_round: {cr_test}\\ncr_test: {round(cr_test*100,1)}')\n",
    "# 2\n",
    "var_cont=cr_cont*(1-cr_cont)\n",
    "var_test=cr_test*(1-cr_test)\n",
    "print(f'var_cont: {cr_cont}\\nvar_test: {var_test}')\n",
    "# 3\n",
    "# H0: cr_cont == cr_test\n",
    "# H1: cr_cont != cr_test\n",
    "a=0.05\n",
    "z=(cr_test-cr_cont)/(var_test/sum(df[\"test\"][df[\"metrics\"]==\"Заход_в_приложение\"])+var_cont/sum(df[\"cont\"][df[\"metrics\"]==\"Заход_в_приложение\"]))**0.5\n",
    "\n",
    "print(f'z_test: {round(z,2)}')\n",
    "p=0.056\n",
    "if p>a:\n",
    "   print(f'-----------\\np-value({p}) > a({a}) => H0 is OK => H0\\n-----------')\n",
    "else:\n",
    "   print(f'-----------\\np-value({p}) < a({a}) => H0 is not OK => H1\\n-----------')"
   ]
  },
  {
   "cell_type": "code",
   "execution_count": 54,
   "metadata": {},
   "outputs": [
    {
     "name": "stdout",
     "output_type": "stream",
     "text": [
      "n: 81271.0\n"
     ]
    }
   ],
   "source": [
    "# расчитываем размер выборки\n",
    "mde=13.9\n",
    "z_a=-1.96 #0.025 квантиль стандартного нормального распределения\n",
    "z_b=-0.842 #0.2 квантиль стандартного нормального распределения\n",
    "variance_hist=1000000\n",
    "n=(2*variance_hist*(z_a+z_b)**2)/mde**2\n",
    "print(f'n: {round(n,0)}')"
   ]
  },
  {
   "cell_type": "code",
   "execution_count": 65,
   "metadata": {},
   "outputs": [
    {
     "name": "stdout",
     "output_type": "stream",
     "text": [
      "z: 1.298143643242268\n"
     ]
    }
   ],
   "source": [
    "n=94360\n",
    "# mde=10 #при 0.212 квантиль =0.58\n",
    "mde=15\n",
    "z_minus_b=(n/(2*variance_hist))**0.5*mde+z_a\n",
    "print(f'z: {z_minus_b}')"
   ]
  },
  {
   "cell_type": "code",
   "execution_count": 73,
   "metadata": {},
   "outputs": [
    {
     "name": "stdout",
     "output_type": "stream",
     "text": [
      "n: 5839.0\n"
     ]
    }
   ],
   "source": [
    "arpu=3\n",
    "moshnost=z_minus_b=0.9\n",
    "quantile_z_minus_b=1.282\n",
    "quantile_z_b=-quantile_z_minus_b\n",
    "quantile_z_a=-1.96\n",
    "z_a=0.05\n",
    "variance=2500\n",
    "n=(2*variance*(quantile_z_a+quantile_z_b)**2)/arpu**2\n",
    "print(f'n: {round(n,0)}')"
   ]
  },
  {
   "cell_type": "code",
   "execution_count": 76,
   "metadata": {},
   "outputs": [
    {
     "name": "stdout",
     "output_type": "stream",
     "text": [
      "n: 23357.0\n",
      "-17518.0\n"
     ]
    }
   ],
   "source": [
    "arpu=1.5\n",
    "moshnost=z_minus_b=0.9\n",
    "quantile_z_minus_b=1.282\n",
    "quantile_z_b=-quantile_z_minus_b\n",
    "quantile_z_a=-1.96\n",
    "z_a=0.05\n",
    "variance=2500\n",
    "n_real=(2*variance*(quantile_z_a+quantile_z_b)**2)/arpu**2\n",
    "print(f'n: {round(n_real,0)}')\n",
    "print(round(n,0)-round(n_real,0))"
   ]
  },
  {
   "cell_type": "markdown",
   "metadata": {},
   "source": []
  },
  {
   "cell_type": "code",
   "execution_count": 75,
   "metadata": {},
   "outputs": [
    {
     "name": "stdout",
     "output_type": "stream",
     "text": [
      "-17518.0\n"
     ]
    }
   ],
   "source": [
    "print(round(n,0)-round(n_real,0))"
   ]
  },
  {
   "cell_type": "code",
   "execution_count": 78,
   "metadata": {},
   "outputs": [
    {
     "name": "stdout",
     "output_type": "stream",
     "text": [
      "quantile: -0.34\n"
     ]
    }
   ],
   "source": [
    "n=5839\n",
    "variance=2500\n",
    "mde=arpu=1.5\n",
    "quantile_z_minus_b=(n/(2*variance))**0.5*mde+quantile_z_a\n",
    "print(f'quantile: {round(quantile_z_minus_b,2)}')"
   ]
  },
  {
   "cell_type": "code",
   "execution_count": 143,
   "metadata": {},
   "outputs": [
    {
     "name": "stdout",
     "output_type": "stream",
     "text": [
      "             period1     period2          mean\n",
      "metric                                        \n",
      "arpu            7595        7528        7561.5\n",
      "variance  1014967377  1002738948  1008853162.5\n",
      "n            1934545     1865983     1900264.0\n",
      "__________________________________________________\n",
      "MDE: 129.0\n"
     ]
    }
   ],
   "source": [
    "import scipy.stats as sps\n",
    "a=0.05\n",
    "b=0.2\n",
    "power=1-b\n",
    "#statistical sisnificance #расчет квантиля\n",
    "# z_sig_a=sps.norm.ppf(1-a/2) # a обязательно делим на 2, объяснялось выше\n",
    "# z_sig_b=sps.norm.ppf(1-b)\n",
    "rows=[\"arpu\", \"variance\", \"n\"]\n",
    "columns=[\"metric\",\"period1\", \"period2\"]\n",
    "col1=[7595,1014967377,1934545]\n",
    "col2=[7528,1002738948,1865983]\n",
    "data_list=[]\n",
    "data_list.append(rows)\n",
    "data_list.append(col1)\n",
    "data_list.append(col2)\n",
    "df=pd.DataFrame(data_list).transpose()\n",
    "df.columns=columns\n",
    "df.set_index(\"metric\", inplace=True)\n",
    "df[\"mean\"]=df.loc[:, [\"period1\",\"period2\"]].mean(axis = 1)\n",
    "print(df)\n",
    "print(f'{\"_\":_^{50}}')\n",
    "mde=(sps.norm.ppf(1-a/2)+sps.norm.ppf(1-b))*((4*df.loc[\"variance\",\"mean\"])/df.loc[\"n\",\"mean\"])**0.5\n",
    "print(f'MDE: {round(mde,0)}')"
   ]
  },
  {
   "cell_type": "code",
   "execution_count": 157,
   "metadata": {},
   "outputs": [
    {
     "name": "stdout",
     "output_type": "stream",
     "text": [
      "        dau    variance  arpu  mde\n",
      "2w  1695791   741688599  6448  117\n",
      "3w  1900264  1008853163  7562  130\n",
      "__________________________________________________\n",
      "        dau    variance  arpu  mde  mde_relative_%\n",
      "2w  1695791   741688599  6448  117            1.81\n",
      "3w  1900264  1008853163  7562  130            1.72\n"
     ]
    }
   ],
   "source": [
    "rows=[\"2w\",\"3w\"]\n",
    "columns=[\"dau\",\"variance\",\"arpu\",\"mde\"]\n",
    "col1=[1695791,1900264]\n",
    "col2=[741688599,1008853163]\n",
    "col3=[6448,7562]\n",
    "col4=[117,130]\n",
    "data_list=[]\n",
    "data_list.append(col1)\n",
    "data_list.append(col2)\n",
    "data_list.append(col3)\n",
    "data_list.append(col4)\n",
    "df=pd.DataFrame(data_list).transpose()\n",
    "df.columns=columns\n",
    "df.index=rows\n",
    "print(df)\n",
    "print(f'{\"_\":_^{50}}')\n",
    "df[\"mde_relative_%\"]=(round(df[\"mde\"]/df[\"arpu\"]*100,2))\n",
    "print(df)"
   ]
  },
  {
   "cell_type": "code",
   "execution_count": 16,
   "metadata": {},
   "outputs": [
    {
     "name": "stdout",
     "output_type": "stream",
     "text": [
      "        dau  variance   arpu\n",
      "1m  18251.0     0.104  0.118\n",
      "2m  24665.0     0.124  0.145\n",
      "__________________________________________________\n",
      "mde_1m: 0.0134\n",
      "mde_2m: 0.0126\n"
     ]
    }
   ],
   "source": [
    "# подготовка данных\n",
    "columns=[\"dau\",\"variance\",\"arpu\"]\n",
    "rows=[\"1m\",\"2m\"]\n",
    "col1=[18251, 24665]\n",
    "col2=[0.104,0.124]\n",
    "col3=[0.118,0.145]\n",
    "data_list=[]\n",
    "data_list.append(col1)\n",
    "data_list.append(col2)\n",
    "data_list.append(col3)\n",
    "df=pd.DataFrame(data_list).transpose()\n",
    "df.columns=columns\n",
    "df.index=rows\n",
    "print(df)\n",
    "print(f'{\"_\":_^{50}}')\n",
    "# вводные\n",
    "a=0.05\n",
    "b=0.2\n",
    "power=1-b\n",
    "# решение\n",
    "mde_1m=(sps.norm.ppf(1-a/2)+sps.norm.ppf(power))*((4*df.loc[\"1m\",\"variance\"])/df.loc[\"1m\",\"dau\"])**0.5\n",
    "mde_2m=(sps.norm.ppf(1-a/2)+sps.norm.ppf(power))*((4*df.loc[\"2m\",\"variance\"])/df.loc[\"2m\",\"dau\"])**0.5\n",
    "print(f'mde_1m: {round(mde_1m,4)}\\nmde_2m: {round(mde_2m,4)}')"
   ]
  },
  {
   "cell_type": "code",
   "execution_count": 17,
   "metadata": {},
   "outputs": [
    {
     "name": "stdout",
     "output_type": "stream",
     "text": [
      "        dau  variance   arpu       mde\n",
      "1m  18251.0     0.104  0.118  0.013375\n",
      "2m  24665.0     0.124  0.145  0.012563\n",
      "__________________________________________________\n",
      "        dau  variance   arpu       mde  mde_relative\n",
      "1m  18251.0     0.104  0.118  0.013375          11.3\n",
      "2m  24665.0     0.124  0.145  0.012563           8.7\n"
     ]
    }
   ],
   "source": [
    "col4=[mde_1m,mde_2m]\n",
    "df[\"mde\"]=col4\n",
    "print(df)\n",
    "print(f'{\"_\":_^{50}}')\n",
    "df[\"mde_relative\"]=round(df[\"mde\"]/df[\"arpu\"]*100,1)\n",
    "print(df)"
   ]
  },
  {
   "cell_type": "code",
   "execution_count": 30,
   "metadata": {},
   "outputs": [
    {
     "name": "stdout",
     "output_type": "stream",
     "text": [
      "ese: 9.98\n",
      "t_stat: 3.11\n",
      "df: 197.01\n",
      "-----------\n",
      "p-value(0.002) < a(0.05) => H0 is not OK => H1\n",
      "-----------\n"
     ]
    }
   ],
   "source": [
    "## бакетный тест\n",
    "arpu_test=2763\n",
    "arpu_cont=2732\n",
    "sd_test=73\n",
    "sd_cont=68\n",
    "# H0: arpu_test == arpu_cont\n",
    "# H1: arpu_test != arpu_cont\n",
    "a=0.05\n",
    "n=100\n",
    "ese=((sd_test**2/n)+(sd_cont**2/n))**0.5\n",
    "print(f'ese: {round(ese,2)}')\n",
    "t_stat=(arpu_test-arpu_cont)/ese\n",
    "print(f't_stat: {round(t_stat,2)}')\n",
    "df=((n-1)*(sd_test**2+sd_cont**2)**2)/(sd_test**4+sd_cont**4)\n",
    "print(f'df: {round(df,2)}')\n",
    "p=0.002\n",
    "if p>a:\n",
    "   print(f'-----------\\np-value({p}) > a({a}) => H0 is OK => H0\\n-----------')\n",
    "else:\n",
    "   print(f'-----------\\np-value({p}) < a({a}) => H0 is not OK => H1\\n-----------')"
   ]
  },
  {
   "cell_type": "code",
   "execution_count": 31,
   "metadata": {},
   "outputs": [
    {
     "name": "stdout",
     "output_type": "stream",
     "text": [
      "-----------\n",
      "p-value(0.0006) < a(0.001) => H0 is not OK => H1\n",
      "-----------\n"
     ]
    }
   ],
   "source": [
    "# H0: пропорции теста == пропорции контроля\n",
    "# H1: пропорции теста != пропорции контроля\n",
    "p=0.0006\n",
    "a=0.001\n",
    "if p>a:\n",
    "   print(f'-----------\\np-value({p}) > a({a}) => H0 is OK => H0\\n-----------')\n",
    "else:\n",
    "   print(f'-----------\\np-value({p}) < a({a}) => H0 is not OK => H1\\n-----------')\n",
    "# Верна альтернативная гипотеза - пропорции тестовой и контрольной группы не совпадают, эксп не валиден, SRM есть"
   ]
  },
  {
   "cell_type": "code",
   "execution_count": 52,
   "metadata": {},
   "outputs": [
    {
     "name": "stdout",
     "output_type": "stream",
     "text": [
      "ese: 94.19\n",
      "t_test: 2.17\n",
      "df: 195.59\n",
      "p: 0.032\n",
      "__________________________________________________\n",
      "p-value(0.032) < a(0.05) => H0 is not OK => H1\n"
     ]
    }
   ],
   "source": [
    "arpu_test=8066\n",
    "arpu_cont=7862\n",
    "sd_test=702\n",
    "sd_cont=628\n",
    "a=0.05\n",
    "n=100 #т.к. бакетный тест и в условиях так решили\n",
    "ese=((sd_test**2/n)+(sd_cont**2/n))**0.5\n",
    "print(f'ese: {round(ese,2)}')\n",
    "t_value=(arpu_test-arpu_cont)/ese\n",
    "print(f't_test: {round(t_test,2)}')\n",
    "df=((n-1)*(sd_test**2+sd_cont**2)**2)/(sd_test**4+sd_cont**4)\n",
    "print(f'df: {round(df,2)}')\n",
    "p=(1-sps.t.cdf(t_value,df))*2 #умножаем на 2 т.к. two_tailed\n",
    "print(f'p: {round(p,3)}')\n",
    "print(f'{\"_\":_^{50}}')\n",
    "if p>a:\n",
    "   print(f'p-value({round(p,3)}) > a({a}) => H0 is OK => H0')\n",
    "else:\n",
    "   print(f'p-value({round(p,3)}) < a({a}) => H0 is not OK => H1')"
   ]
  },
  {
   "cell_type": "code",
   "execution_count": 12,
   "metadata": {},
   "outputs": [
    {
     "name": "stdout",
     "output_type": "stream",
     "text": [
      "z_value: 1.94\n",
      "p_value: 0.053\n",
      "__________________________________________________\n",
      "p-value(0.053) > a(0.05) => H0 is OK => H0\n"
     ]
    }
   ],
   "source": [
    "a=0.05\n",
    "mde=0.033\n",
    "cr_test=0.7115\n",
    "cr_cont=0.689\n",
    "n_test=3126\n",
    "n_cont=3099\n",
    "# H0: cr_test == cr_cont\n",
    "# H1: cr_test != cr_cont\n",
    "\n",
    "var_cont=cr_cont*(1-cr_cont)\n",
    "var_test=cr_test*(1-cr_test)\n",
    "\n",
    "ese=(var_cont/n_cont+var_test/n_test)**0.5\n",
    "z_value=(cr_test-cr_cont-0)/ese\n",
    "print(f'z_value: {round(z_value,2)}')\n",
    "p_value=sps.norm.sf(abs(z_value)) * 2\n",
    "print(f'p_value: {round(p_value,3)}')\n",
    "print(f'{\"_\":_^{50}}')\n",
    "if p_value>a:\n",
    "  print(f'p-value({round(p_value,3)}) > a({a}) => H0 is OK => H0')\n",
    "else:\n",
    "  print(f'p-value({round(p_value,3)}) < a({a}) => H0 is not OK => H1')\n"
   ]
  },
  {
   "cell_type": "code",
   "execution_count": 10,
   "metadata": {},
   "outputs": [
    {
     "name": "stdout",
     "output_type": "stream",
     "text": [
      "z: -1.51\n",
      "p: 0.132\n",
      "__________________________________________________\n",
      "p-value(0.132) > a(0.05) => H0 is OK => H0\n"
     ]
    }
   ],
   "source": [
    "a=0.05\n",
    "mde=0.04\n",
    "cr_test=0.7115\n",
    "cr_cont=0.689\n",
    "n_test=3126\n",
    "n_cont=3099\n",
    "# H0: cr_test == cr_cont + 0.04 <=> cr_test - cr_cont == 0.04\n",
    "# H1: cr_test != cr_cont + 0.04 <=> cr_test - cr_cont != 0.04\n",
    "\n",
    "var_cont=cr_cont*(1-cr_cont)\n",
    "var_test=cr_test*(1-cr_test)\n",
    "\n",
    "ese=(var_cont/n_cont+var_test/n_test)**0.5\n",
    "z_value=((cr_test-cr_cont)-mde)/ese\n",
    "print(f'z: {round(z_value,2)}')\n",
    "p_value=sps.norm.sf(abs(z_value)) * 2\n",
    "print(f'p: {round(p_value,3)}')\n",
    "print(f'{\"_\":_^{50}}')\n",
    "if p_value>a:\n",
    "  print(f'p-value({round(p_value,3)}) > a({a}) => H0 is OK => H0')\n",
    "else:\n",
    "  print(f'p-value({round(p_value,3)}) < a({a}) => H0 is not OK => H1')\n"
   ]
  },
  {
   "cell_type": "code",
   "execution_count": 3,
   "metadata": {},
   "outputs": [
    {
     "name": "stdout",
     "output_type": "stream",
     "text": [
      "z_value: 2.28\n",
      "p_value: 0.02\n",
      "p-value(0.023) < a(0.05) => H0 is not OK => H1\n"
     ]
    }
   ],
   "source": [
    "a=0.05\n",
    "mde=0.033\n",
    "# H0: CR_test - CR_control = 0.033\n",
    "# H1: CR_test - CR_control != 0.033\n",
    "cr_test=p_test=0.745\n",
    "ct_cont=p_cont=0.686\n",
    "n_test=3110\n",
    "n_cont=3115\n",
    "\n",
    "var_test=p_test*(1-p_test)\n",
    "var_cont=p_cont*(1-p_cont)\n",
    "ese = (var_test/n_test+var_cont/n_cont)**0.5\n",
    "z_value=(p_test-p_cont-mde)/ese\n",
    "print(f'z_value: {round(z_value,2)}')\n",
    "p_value=sps.norm.sf(abs(z_value))*2\n",
    "print(f'p_value: {round(p_value,2)}')\n",
    "\n",
    "if p_value>a:\n",
    " print(f'p-value({round(p_value,3)}) > a({a}) => H0 is OK => H0')\n",
    "else:\n",
    " print(f'p-value({round(p_value,3)}) < a({a}) => H0 is not OK => H1')"
   ]
  },
  {
   "cell_type": "code",
   "execution_count": 46,
   "metadata": {},
   "outputs": [
    {
     "name": "stdout",
     "output_type": "stream",
     "text": [
      "        dau  variance   arpu\n",
      "1m  18251.0     0.104  0.118\n",
      "2m  24665.0     0.124  0.145\n",
      "__________________________________________________\n",
      "mde_1m: 0.0134\n",
      "mde_2m: 0.0126\n"
     ]
    }
   ],
   "source": [
    "# подготовка данных\n",
    "columns=[\"dau\",\"variance\",\"arpu\"]\n",
    "rows=[\"1m\",\"2m\"]\n",
    "col1=[18251, 24665]\n",
    "col2=[0.104,0.124]\n",
    "col3=[0.118,0.145]\n",
    "data_list=[]\n",
    "data_list.append(col1)\n",
    "data_list.append(col2)\n",
    "data_list.append(col3)\n",
    "df=pd.DataFrame(data_list).transpose()\n",
    "df.columns=columns\n",
    "df.index=rows\n",
    "print(df)\n",
    "print(f'{\"_\":_^{50}}')\n",
    "# вводные\n",
    "a=0.05\n",
    "b=0.2\n",
    "power=1-b\n",
    "# решение\n",
    "mde_1m=(sps.norm.ppf(1-a/2)+sps.norm.ppf(power))*((4*df.loc[\"1m\",\"variance\"])/df.loc[\"1m\",\"dau\"])**0.5\n",
    "mde_2m=(sps.norm.ppf(1-a/2)+sps.norm.ppf(power))*((4*df.loc[\"2m\",\"variance\"])/df.loc[\"2m\",\"dau\"])**0.5\n",
    "print(f'mde_1m: {round(mde_1m,4)}\\nmde_2m: {round(mde_2m,4)}')"
   ]
  },
  {
   "cell_type": "code",
   "execution_count": 84,
   "metadata": {},
   "outputs": [
    {
     "name": "stdout",
     "output_type": "stream",
     "text": [
      "              control         test\n",
      "n_size        2100.00  2100.000000\n",
      "metric_value    71.28    74.690000\n",
      "diff              NaN     3.410000\n",
      "p_value           NaN     0.000002\n",
      "std             25.00    21.000000\n",
      "__________________________________________________\n",
      "ese: 0.71\n",
      "t_value: 1.98\n",
      "dfr: 4076.546\n",
      "p_value: 0.048\n",
      "__________________________________________________\n",
      "p-value(0.048) < a(0.05) => H0 is not OK => H1\n"
     ]
    }
   ],
   "source": [
    "a=0.05\n",
    "mde=2\n",
    "rows=[\"n_size\",\"metric_value\",\"diff\",\"p_value\",\"std\"]\n",
    "cols=[\"control\",\"test\"]\n",
    "values_cont=[2100,71.28,None,None,25]\n",
    "values_test=[2100,74.69,3.41,0.000002,21]\n",
    "data_list=[]\n",
    "data_list.append(values_cont)\n",
    "data_list.append(values_test)\n",
    "df=pd.DataFrame(data_list).transpose()\n",
    "df.index=rows\n",
    "df.columns=cols\n",
    "print(df)\n",
    "print(f'{\"_\":_^{50}}')\n",
    "#H0: metric_cont == metric_test + mde (=2) => metric_cont - metric_test = 2\n",
    "#H1: metric_cont != metric_test + mde (=2) => metric_cont - metric_test != 2\n",
    "\n",
    "# двухвыборочный t-test\n",
    "ese=((df.loc[\"std\",\"test\"]**2/df.loc[\"n_size\",\"test\"])+(df.loc[\"std\",\"control\"]**2/df.loc[\"n_size\",\"control\"]))**0.5\n",
    "print(f\"ese: {round(ese,2)}\")\n",
    "t_value=((df.loc[\"metric_value\",\"test\"]-df.loc[\"metric_value\",\"control\"])-mde)/ese\n",
    "print(f\"t_value: {round(t_value,2)}\")\n",
    "dfr=((df.loc[\"n_size\",\"control\"]-1)*(df.loc[\"std\",\"test\"]**2+df.loc[\"std\",\"control\"]**2)**2)/(df.loc[\"std\",\"test\"]**4+df.loc[\"std\",\"control\"]**4)\n",
    "print(f'dfr: {round(dfr,3)}')\n",
    "p_value=(1-sps.t.cdf(t_value,dfr))*2 #умножаем на 2 т.к. two_tailed\n",
    "print(f'p_value: {round(p_value,3)}')\n",
    "print(f'{\"_\":_^{50}}')\n",
    "if p_value>a:\n",
    "  print(f'p-value({round(p_value,3)}) > a({a}) => H0 is OK => H0')\n",
    "else:\n",
    "  print(f'p-value({round(p_value,3)}) < a({a}) => H0 is not OK => H1')"
   ]
  },
  {
   "cell_type": "code",
   "execution_count": 14,
   "metadata": {},
   "outputs": [
    {
     "name": "stdout",
     "output_type": "stream",
     "text": [
      "z_sig_a: 1.96\n",
      "z_sig_b: 0.84\n",
      "sigs_sum: 2.8\n",
      "__________________________________________________\n",
      "mde_needed: 1.5\n",
      "mde_1w: 1.67\n",
      "mde_2w: 1.48\n"
     ]
    }
   ],
   "source": [
    "mde=1.5\n",
    "a=0.05\n",
    "p=0.8\n",
    "b=(1-p)\n",
    "power=1-b\n",
    "#statistical sisnificance #расчет квантиля\n",
    "z_sig_a=sps.norm.ppf(1-a/2) # a обязательно делим на 2, объяснялось выше\n",
    "z_sig_b=sps.norm.ppf(1-b)\n",
    "z_sigs=z_sig_a+z_sig_b\n",
    "print(f'z_sig_a: {round(z_sig_a,2)}\\nz_sig_b: {round(z_sig_b,2)}\\nsigs_sum: {round(z_sigs,2)}')\n",
    "print(f'{\"_\":_^{50}}')\n",
    "var_hist_1=0.041\n",
    "n_hist_1=2621000\n",
    "cr_hist_1=0.042\n",
    "var_hist_2=0.048\n",
    "n_hist_2=2645900\n",
    "cr_hist_2=0.051\n",
    "mde_1=(z_sigs*((4*var_hist_1)/n_hist_1)**0.5/cr_hist_1)*100\n",
    "mde_2=(z_sigs*((4*var_hist_2)/n_hist_2)**0.5/cr_hist_2)*100\n",
    "print(f'mde_needed: {round(mde,2)}\\nmde_1w: {round(mde_1,2)}\\nmde_2w: {(round(mde_2,2))}')"
   ]
  },
  {
   "cell_type": "code",
   "execution_count": 18,
   "metadata": {},
   "outputs": [
    {
     "name": "stdout",
     "output_type": "stream",
     "text": [
      "z_value: 1.1\n",
      "p_value: 0.27\n",
      "__________________________________________________\n",
      "p-value(0.27) > a(0.05) => H0 is OK => H0\n"
     ]
    }
   ],
   "source": [
    "# тестируем однородность выборок A/A test\n",
    "conv_test=0.1526\n",
    "conv_cont=0.1524\n",
    "n_test=7863369\n",
    "n_cont=7864235\n",
    "a=0.05\n",
    "# H0: conv_test == conv_cont\n",
    "# H1: conv_test != conv_cont\n",
    "# z-test\n",
    "ese=(((conv_test*(1-conv_test))/n_test)+((conv_cont*(1-conv_cont))/n_cont))**0.5\n",
    "z_value=(conv_test-conv_cont)/ese\n",
    "print(f'z_value: {round(z_value,2)}')\n",
    "p_value=sps.norm.sf(abs(z_value))*2\n",
    "print(f'p_value: {round(p_value,2)}')\n",
    "print(f'{\"_\":_^{50}}')\n",
    "if p_value>a:\n",
    " print(f'p-value({round(p_value,3)}) > a({a}) => H0 is OK => H0')\n",
    "else:\n",
    " print(f'p-value({round(p_value,3)}) < a({a}) => H0 is not OK => H1')"
   ]
  },
  {
   "cell_type": "code",
   "execution_count": 21,
   "metadata": {},
   "outputs": [
    {
     "name": "stdout",
     "output_type": "stream",
     "text": [
      "z_value: 2.33\n",
      "p_value: 0.02\n",
      "__________________________________________________\n",
      "p-value(0.02) < a(0.05) => H0 is not OK => H1\n"
     ]
    }
   ],
   "source": [
    "# проверка гипотезы о том, что наблюдаемая разность статистически значимо отличается\n",
    "# H0: conv_test == conv_control + 0.000765 <=> conv_test - conv_control == 0.000765\n",
    "# H1: conv_test != conv_control + 0.000765 <=> conv_test - conv_control != 0.000765\n",
    "conv_test=0.0526\n",
    "conv_cont=0.0512\n",
    "n_test=1322630\n",
    "n_cont=1321882\n",
    "mde=0.000765\n",
    "ese=(((conv_test*(1-conv_test))/n_test)+((conv_cont*(1-conv_cont))/n_cont))**0.5\n",
    "z_value=(conv_test-conv_cont-mde)/ese\n",
    "print(f'z_value: {round(z_value,2)}')\n",
    "p_value=sps.norm.sf(abs(z_value))*2\n",
    "print(f'p_value: {round(p_value,2)}')\n",
    "print(f'{\"_\":_^{50}}')\n",
    "if p_value>a:\n",
    " print(f'p-value({round(p_value,3)}) > a({a}) => H0 is OK => H0')\n",
    "else:\n",
    " print(f'p-value({round(p_value,3)}) < a({a}) => H0 is not OK => H1')"
   ]
  },
  {
   "cell_type": "code",
   "execution_count": null,
   "metadata": {},
   "outputs": [],
   "source": []
  }
 ],
 "metadata": {
  "kernelspec": {
   "display_name": "Python 3",
   "language": "python",
   "name": "python3"
  },
  "language_info": {
   "codemirror_mode": {
    "name": "ipython",
    "version": 3
   },
   "file_extension": ".py",
   "mimetype": "text/x-python",
   "name": "python",
   "nbconvert_exporter": "python",
   "pygments_lexer": "ipython3",
   "version": "3.11.3"
  }
 },
 "nbformat": 4,
 "nbformat_minor": 2
}
